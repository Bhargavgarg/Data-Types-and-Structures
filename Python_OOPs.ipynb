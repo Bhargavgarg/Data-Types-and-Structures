{
  "nbformat": 4,
  "nbformat_minor": 0,
  "metadata": {
    "colab": {
      "provenance": []
    },
    "kernelspec": {
      "name": "python3",
      "display_name": "Python 3"
    },
    "language_info": {
      "name": "python"
    }
  },
  "cells": [
    {
      "cell_type": "code",
      "execution_count": null,
      "metadata": {
        "id": "b0vm1ZwxD6UR"
      },
      "outputs": [],
      "source": []
    },
    {
      "cell_type": "markdown",
      "source": [
        "###         Assignment  Python OOPs\n",
        "\n",
        "\n",
        "1. What is Object-Oriented Programming (OOP)?\n",
        "\n",
        "Ans>> OOP is a way of programming that organizes code into objects (real-world entities) that have data (attributes) and behavior (methods).\n",
        "It makes code reusable, scalable, and easy to manage.\n",
        "\n",
        "2. What is a class in OOP?\n",
        "\n",
        "Ans>> A class is a blueprint/template for creating objects. It defines properties (variables) and methods (functions).\n",
        "\n",
        "class Car:\n",
        "\n",
        "    def __init__(self, brand, color):\n",
        "\n",
        "        self.brand = brand\n",
        "        self.color = color\n",
        "\n",
        "3. What is an object in OOP?\n",
        "\n",
        "Ans>> An object is an instance of a class.\n",
        "\n",
        "  car1 = Car(\"Tesla\", \"Red\")  \n",
        "\n",
        "4. Difference between Abstraction and Encapsulation\n",
        "\n",
        "Ans>> Abstraction → Hides implementation details and shows only the necessary features. (e.g., you call .sort() without knowing how sorting works inside).\n",
        "\n",
        "Encapsulation → Bundles data and methods inside a class and restricts direct access using private/protected variables.\n",
        "\n",
        "5. What are dunder methods in Python?\n",
        "\n",
        "Ans>> Dunder = Double Underscore methods. They start and end with __. Used for operator overloading and object behavior.\n",
        "Examples:\n",
        "\n",
        "__init__ → constructor\n",
        "\n",
        "__str__ → string representation\n",
        "\n",
        "__len__ → length of object\n",
        "\n",
        "6.  Explain the concept of inheritance in OOP.\n",
        "\n",
        "Ans>> Inheritance lets one class (child) use properties/methods of another class (parent).\n",
        "\n",
        "class Animal:\n",
        "\n",
        "    def speak(self): print(\"Sound\")\n",
        "\n",
        "class Dog(Animal):\n",
        "\n",
        "    def speak(self): print(\"Bark\")\n",
        "\n",
        "7. What is polymorphism in OOP?\n",
        "\n",
        "Ans>> Polymorphism = same function name, different behavior depending on object/class.\n",
        "Example:\n",
        "\n",
        "for animal in [Dog(), Animal()]:\n",
        "    animal.speak()  # Bark / Sound\n",
        "\n",
        "8. How is encapsulation achieved in Python?\n",
        "\n",
        "Ans>> By using private variables (__var) and providing getter/setter methods.\n",
        "\n",
        "class Bank:\n",
        "\n",
        "    def __init__(self, balance):\n",
        "         self.__balance = balance  # private\n",
        "\n",
        "    def get_balance(self):\n",
        "        return self.__balance\n",
        "\n",
        "9. What is a constructor in Python?\n",
        "\n",
        "Ans>> __init__ is the constructor, called automatically when an object is created.\n",
        "\n",
        "10. What are class and static methods in Python?\n",
        "\n",
        "Ans>> Class method → Works with class (@classmethod, first arg cls).\n",
        "\n",
        "Static method → Independent utility method (@staticmethod, no self or cls).\n",
        "\n",
        "11. What is method overloading in Python?\n",
        "\n",
        "Ans> Python doesn’t support traditional overloading, but you can use default arguments or *args.\n",
        "\n",
        "class Demo:\n",
        "\n",
        "    def add(self, a, b=0): return a + b\n",
        "\n",
        "12. What is method overriding in OOP?\n",
        "\n",
        "Ans>> When a child class defines a method with the same name as in parent, it replaces parent’s version.\n",
        "\n",
        "13. What is a property decorator in Python?\n",
        "\n",
        "Ans>> @property lets you use a method like an attribute.\n",
        "\n",
        "class Person:\n",
        "\n",
        "    def __init__(self, age): self._age = age\n",
        "\n",
        "    @property\n",
        "    def age(self): return self._age\n",
        "\n",
        "14. Why is polymorphism important in OOP?\n",
        "\n",
        "Ans>> It increases flexibility – same interface, different implementations. Makes code general and reusable.\n",
        "\n",
        "15. What is an abstract class in Python?\n",
        "\n",
        "Ans>> class that cannot be instantiated directly. It contains abstract methods (declared but not implemented).\n",
        "Uses abc module.\n",
        "\n",
        "16. What are the advantages of OOP?\n",
        "\n",
        "Ans>> Reusability (inheritance)\n",
        "\n",
        "Easy to maintain\n",
        "\n",
        "Encapsulation (data security)\n",
        "\n",
        "Polymorphism (flexibility)\n",
        "\n",
        "Abstraction (hides complexity)\n",
        "\n",
        "17. What is the difference between a class variable and an instance variable?\n",
        "\n",
        "Ans>> Class variable → Shared by all objects (defined outside __init__).\n",
        "\n",
        "Instance variable → Unique to each object (inside __init__).\n",
        "\n",
        "18. What is multiple inheritance in Python?\n",
        "\n",
        "Ans>> A class can inherit from multiple parent classes.\n",
        "\n",
        "class A: pass\n",
        "\n",
        "class B: pass\n",
        "\n",
        "class C(A, B): pass\n",
        "\n",
        "19. Explain the purpose of ‘’__str__’ and ‘__repr__’ ‘ methods in PythonH\n",
        "\n",
        "Ans>> __str__ → Readable representation (for users).\n",
        "\n",
        "__repr__ → Debugging representation (for developers).\n",
        "\n",
        "20.  What is the significance of the ‘super()’ function in Python?\n",
        "\n",
        "Ans>> super() is used to call the parent class method/constructor in a child class.\n",
        "\n",
        "21. What is the significance of the __del__ method in Python ?\n",
        "\n",
        "Ans>> __del__ is a destructor, called when an object is deleted (used for cleanup).\n",
        "\n",
        "22. What is the difference between @staticmethod and @classmethod in Python?\n",
        "\n",
        "Ans>> staticmethod → Doesn’t take self or cls. Independent helper.\n",
        "\n",
        "classmethod → Takes cls, can modify class-level data.\n",
        "\n",
        "23. How does polymorphism work in Python with inheritance?\n",
        "\n",
        "Ans>> If child class overrides a method, Python calls the child’s version at runtime → dynamic polymorphism.\n",
        "\n",
        "24. What is method chaining in Python OOP?\n",
        "\n",
        "Ans>> When a method returns self, multiple methods can be called in a chain.\n",
        "\n",
        "class Test:\n",
        "\n",
        "    def step1(self): print(\"1\"); return self\n",
        "    def step2(self): print(\"2\"); return self\n",
        "\n",
        "Test().step1().step2()\n",
        "\n",
        "25. What is the purpose of the __call__ method in Python?\n",
        "\n",
        "Ans>> If a class defines __call__, its objects can be used like a function.\n",
        "\n",
        "class Multiplier:\n",
        "\n",
        "    def __init__(self, n): self.n = n\n",
        "    def __call__(self, x): return x * self.n\n",
        "\n",
        "times2 = Multiplier(2)\n",
        "\n",
        "print(times2(5))\n"
      ],
      "metadata": {
        "id": "wSeVL_4ED9EN"
      }
    },
    {
      "cell_type": "code",
      "source": [
        "#1. Create a parent class Animal with a method speak() that prints a generic message. Create a child class Dog\n",
        "#that overrides the speak() method to print \"Bark!\".\n",
        "class Animal:\n",
        "    def speak(self):\n",
        "        print(\"This is a generic animal sound.\")\n",
        "\n",
        "class Dog(Animal):\n",
        "    def speak(self):\n",
        "        print(\"Bark!\")\n",
        "\n",
        "dog = Dog()\n",
        "dog.speak()\n"
      ],
      "metadata": {
        "colab": {
          "base_uri": "https://localhost:8080/"
        },
        "id": "JGKOsyiYIja6",
        "outputId": "1cb64429-3c3a-4a54-e67c-80ee8edd3735"
      },
      "execution_count": 1,
      "outputs": [
        {
          "output_type": "stream",
          "name": "stdout",
          "text": [
            "Bark!\n"
          ]
        }
      ]
    },
    {
      "cell_type": "code",
      "source": [
        "#2. Write a program to create an abstract class Shape with a method area(). Derive classes Circle and Rectangle\n",
        "#from it and implement the area() method in both.\n",
        "from abc import ABC, abstractmethod\n",
        "\n",
        "class Shape(ABC):\n",
        "    @abstractmethod\n",
        "    def area(self):\n",
        "        pass\n",
        "\n",
        "class Circle(Shape):\n",
        "    def __init__(self, radius):\n",
        "        self.radius = radius\n",
        "\n",
        "    def area(self):\n",
        "        return 3.14 * self.radius * self.radius\n",
        "\n",
        "class Rectangle(Shape):\n",
        "    def __init__(self, length, width):\n",
        "        self.length = length\n",
        "        self.width = width\n",
        "\n",
        "    def area(self):\n",
        "        return self.length * self.width\n",
        "\n",
        "circle = Circle(5)\n",
        "rectangle = Rectangle(4, 6)\n",
        "print(\"Circle area:\", circle.area())\n",
        "print(\"Rectangle area:\", rectangle.area())\n"
      ],
      "metadata": {
        "colab": {
          "base_uri": "https://localhost:8080/"
        },
        "id": "koQmeHzOItmj",
        "outputId": "4196415b-0025-4a46-d272-761bab254526"
      },
      "execution_count": 2,
      "outputs": [
        {
          "output_type": "stream",
          "name": "stdout",
          "text": [
            "Circle area: 78.5\n",
            "Rectangle area: 24\n"
          ]
        }
      ]
    },
    {
      "cell_type": "code",
      "source": [
        "#3.Implement a multi-level inheritance scenario where a class Vehicle has an attribute type. Derive a class Car\n",
        "# and further derive a class ElectricCar that adds a battery attribute.\n",
        "class Vehicle:\n",
        "    def __init__(self, type):\n",
        "        self.type = type\n",
        "\n",
        "class Car(Vehicle):\n",
        "    def __init__(self, type, brand):\n",
        "        super().__init__(type)\n",
        "        self.brand = brand\n",
        "\n",
        "class ElectricCar(Car):\n",
        "    def __init__(self, type, brand, battery):\n",
        "        super().__init__(type, brand)\n",
        "        self.battery = battery\n",
        "\n",
        "tesla = ElectricCar(\"Four Wheeler\", \"Tesla\", \"85 kWh\")\n",
        "print(f\"Type: {tesla.type}, Brand: {tesla.brand}, Battery: {tesla.battery}\")\n"
      ],
      "metadata": {
        "colab": {
          "base_uri": "https://localhost:8080/"
        },
        "id": "mpsQex0nItjE",
        "outputId": "fb75d6fd-40e3-47ea-8e2f-900ea4497458"
      },
      "execution_count": 10,
      "outputs": [
        {
          "output_type": "stream",
          "name": "stdout",
          "text": [
            "Type: Four Wheeler, Brand: Tesla, Battery: 85 kWh\n"
          ]
        }
      ]
    },
    {
      "cell_type": "code",
      "source": [
        "#4. Demonstrate polymorphism by creating a base class Bird with a method fly(). Create two derived classes\n",
        "# Sparrow and Penguin that override the fly() method.\n",
        "class Bird:\n",
        "    def fly(self):\n",
        "        print(\"This bird can fly in some way.\")\n",
        "\n",
        "class Sparrow(Bird):\n",
        "    def fly(self):\n",
        "        print(\"Sparrow is flying high.\")\n",
        "\n",
        "class Penguin(Bird):\n",
        "    def fly(self):\n",
        "        print(\"Penguins cannot fly but can swim.\")\n",
        "\n",
        "for bird in [Sparrow(), Penguin()]:\n",
        "    bird.fly()\n",
        "\n"
      ],
      "metadata": {
        "colab": {
          "base_uri": "https://localhost:8080/"
        },
        "id": "o1q3DOpsItgf",
        "outputId": "5b4f662b-ca35-4781-ae84-dabde0f1f3ca"
      },
      "execution_count": 12,
      "outputs": [
        {
          "output_type": "stream",
          "name": "stdout",
          "text": [
            "Sparrow is flying high.\n",
            "Penguins cannot fly but can swim.\n"
          ]
        }
      ]
    },
    {
      "cell_type": "code",
      "source": [
        "#5.Write a program to demonstrate encapsulation by creating a class BankAccount with private attributes\n",
        "# balance and methods to deposit, withdraw, and check balance.\n",
        "class BankAccount:\n",
        "    def __init__(self, balance=0):\n",
        "        self.__balance = balance  # private attribute\n",
        "\n",
        "    def deposit(self, amount):\n",
        "        self.__balance += amount\n",
        "        print(f\"Deposited: {amount}\")\n",
        "\n",
        "    def withdraw(self, amount):\n",
        "        if amount <= self.__balance:\n",
        "            self.__balance -= amount\n",
        "            print(f\"Withdrew: {amount}\")\n",
        "        else:\n",
        "            print(\"Insufficient balance.\")\n",
        "\n",
        "    def check_balance(self):\n",
        "        print(f\"Balance: {self.__balance}\")\n",
        "\n",
        "account = BankAccount(1000)\n",
        "account.deposit(500)\n",
        "account.withdraw(300)\n",
        "account.check_balance()\n"
      ],
      "metadata": {
        "colab": {
          "base_uri": "https://localhost:8080/"
        },
        "id": "Pg2f74odItdt",
        "outputId": "4523bd35-3fdd-4d26-f088-2bfacf2f1629"
      },
      "execution_count": 13,
      "outputs": [
        {
          "output_type": "stream",
          "name": "stdout",
          "text": [
            "Deposited: 500\n",
            "Withdrew: 300\n",
            "Balance: 1200\n"
          ]
        }
      ]
    },
    {
      "cell_type": "code",
      "source": [
        "#6.Demonstrate runtime polymorphism using a method play() in a base class Instrument. Derive classes Guitar\n",
        "# and Piano that implement their own version of play().\n",
        "class Instrument:\n",
        "    def play(self):\n",
        "        print(\"This instrument makes a sound.\")\n",
        "\n",
        "class Guitar(Instrument):\n",
        "    def play(self):\n",
        "        print(\"Strumming the guitar.\")\n",
        "\n",
        "class Piano(Instrument):\n",
        "    def play(self):\n",
        "        print(\"Playing the piano.\")\n",
        "\n",
        "for inst in [Guitar(), Piano()]:\n",
        "    inst.play()\n"
      ],
      "metadata": {
        "colab": {
          "base_uri": "https://localhost:8080/"
        },
        "id": "RCpHrvpkItbV",
        "outputId": "582ceea9-54ce-49e8-aa9d-af8a78e0607c"
      },
      "execution_count": 14,
      "outputs": [
        {
          "output_type": "stream",
          "name": "stdout",
          "text": [
            "Strumming the guitar.\n",
            "Playing the piano.\n"
          ]
        }
      ]
    },
    {
      "cell_type": "code",
      "source": [
        "#7.Create a class MathOperations with a class method add_numbers() to add two numbers and a static\n",
        "# method subtract_numbers() to subtract two numbers.\n",
        "class MathOperations:\n",
        "    @classmethod\n",
        "    def add_numbers(cls, a, b):\n",
        "        return a + b\n",
        "\n",
        "    @staticmethod\n",
        "    def subtract_numbers(a, b):\n",
        "        return a - b\n",
        "\n",
        "print(\"Addition:\", MathOperations.add_numbers(10, 5))\n",
        "print(\"Subtraction:\", MathOperations.subtract_numbers(10, 5))\n"
      ],
      "metadata": {
        "colab": {
          "base_uri": "https://localhost:8080/"
        },
        "id": "Q6J5xMZvItYp",
        "outputId": "7b7465af-2084-42a1-d93b-cc8bebb4f9e4"
      },
      "execution_count": 15,
      "outputs": [
        {
          "output_type": "stream",
          "name": "stdout",
          "text": [
            "Addition: 15\n",
            "Subtraction: 5\n"
          ]
        }
      ]
    },
    {
      "cell_type": "code",
      "source": [
        "#8.Implement a class Person with a class method to count the total number of persons created.\n",
        "class Person:\n",
        "    count = 0  # class variable\n",
        "\n",
        "    def __init__(self, name):\n",
        "        self.name = name\n",
        "        Person.count += 1\n",
        "\n",
        "    @classmethod\n",
        "    def total_persons(cls):\n",
        "        return cls.count\n",
        "\n",
        "p1 = Person(\"Alice\")\n",
        "p2 = Person(\"Bob\")\n",
        "print(\"Total persons:\", Person.total_persons())\n"
      ],
      "metadata": {
        "colab": {
          "base_uri": "https://localhost:8080/"
        },
        "id": "NtuOQ3W_ItWF",
        "outputId": "a1c52aec-bbde-4a75-88f7-b4905080e84e"
      },
      "execution_count": 6,
      "outputs": [
        {
          "output_type": "stream",
          "name": "stdout",
          "text": [
            "Total persons: 2\n"
          ]
        }
      ]
    },
    {
      "cell_type": "code",
      "source": [
        "#9. Write a class Fraction with attributes numerator and denominator. Override the str method to display the\n",
        "# fraction as \"numerator/denominator\".\n",
        "class Fraction:\n",
        "    def __init__(self, numerator, denominator):\n",
        "        self.numerator = numerator\n",
        "        self.denominator = denominator\n",
        "\n",
        "    def __str__(self):\n",
        "        return f\"{self.numerator}/{self.denominator}\"\n",
        "\n",
        "f = Fraction(3, 4)\n",
        "print(f)\n"
      ],
      "metadata": {
        "colab": {
          "base_uri": "https://localhost:8080/"
        },
        "id": "OOZLhBbMItTZ",
        "outputId": "3b8816a2-9ea0-40ae-cfce-e00b31056efc"
      },
      "execution_count": 5,
      "outputs": [
        {
          "output_type": "stream",
          "name": "stdout",
          "text": [
            "3/4\n"
          ]
        }
      ]
    },
    {
      "cell_type": "code",
      "source": [
        "#10. Demonstrate operator overloading by creating a class Vector and overriding the add method to add two\n",
        "# vectors.\n",
        "class Vector:\n",
        "    def __init__(self, x, y):\n",
        "        self.x = x\n",
        "        self.y = y\n",
        "\n",
        "    def __add__(self, other):\n",
        "        return Vector(self.x + other.x, self.y + other.y)\n",
        "\n",
        "    def __str__(self):\n",
        "        return f\"({self.x}, {self.y})\"\n",
        "\n",
        "v1 = Vector(2, 3)\n",
        "v2 = Vector(4, 5)\n",
        "v3 = v1 + v2\n",
        "print(\"Resultant Vector:\", v3)\n"
      ],
      "metadata": {
        "colab": {
          "base_uri": "https://localhost:8080/"
        },
        "id": "ijdsaMR1ItQu",
        "outputId": "4bf4aac8-8116-499c-b2bb-5536119e5176"
      },
      "execution_count": 16,
      "outputs": [
        {
          "output_type": "stream",
          "name": "stdout",
          "text": [
            "Resultant Vector: (6, 8)\n"
          ]
        }
      ]
    },
    {
      "cell_type": "code",
      "source": [
        "#11.Create a class Person with attributes name and age. Add a method greet() that prints \"Hello, my name is\n",
        "# {name} and I am {age} years old.\"\n",
        "class Person:\n",
        "    def __init__(self, name, age):\n",
        "        self.name = name\n",
        "        self.age = age\n",
        "\n",
        "    def greet(self):\n",
        "        print(f\"Hello, my name is {self.name} and I am {self.age} years old.\")\n",
        "\n",
        "p = Person(\"John\", 25)\n",
        "p.greet()\n"
      ],
      "metadata": {
        "colab": {
          "base_uri": "https://localhost:8080/"
        },
        "id": "6zw51pC7ItN0",
        "outputId": "bc16a719-e776-436b-b818-a3890bb572b9"
      },
      "execution_count": 3,
      "outputs": [
        {
          "output_type": "stream",
          "name": "stdout",
          "text": [
            "Hello, my name is John and I am 25 years old.\n"
          ]
        }
      ]
    },
    {
      "cell_type": "code",
      "source": [
        "#12.Implement a class Student with attributes name and grades. Create a method average_grade() to compute\n",
        "# the average of the grades.\n",
        "class Student:\n",
        "    def __init__(self, name, grades):\n",
        "        self.name = name\n",
        "        self.grades = grades  # list of numbers\n",
        "\n",
        "    def average_grade(self):\n",
        "        return sum(self.grades) / len(self.grades)\n",
        "\n",
        "s1 = Student(\"Alice\", [85, 90, 78])\n",
        "print(f\"{s1.name}'s Average Grade:\", s1.average_grade())\n"
      ],
      "metadata": {
        "colab": {
          "base_uri": "https://localhost:8080/"
        },
        "id": "mlfE9w7mLIRK",
        "outputId": "be08662c-660a-4bfe-f3b0-1403d00cbbf5"
      },
      "execution_count": 21,
      "outputs": [
        {
          "output_type": "stream",
          "name": "stdout",
          "text": [
            "Alice's Average Grade: 84.33333333333333\n"
          ]
        }
      ]
    },
    {
      "cell_type": "code",
      "source": [
        "#13.Create a class Rectangle with methods set_dimensions() to set the dimensions and area() to calculate the\n",
        "# area\n",
        "class Rectangle:\n",
        "    def set_dimensions(self, length, width):\n",
        "        self.length = length\n",
        "        self.width = width\n",
        "\n",
        "    def area(self):\n",
        "        return self.length * self.width\n",
        "\n",
        "rect = Rectangle()\n",
        "rect.set_dimensions(10, 5)\n",
        "print(\"Rectangle Area:\", rect.area())\n"
      ],
      "metadata": {
        "colab": {
          "base_uri": "https://localhost:8080/"
        },
        "id": "ByDMrEQ3LIGh",
        "outputId": "c1e2ac17-94f1-4069-a790-7a4270705aba"
      },
      "execution_count": 22,
      "outputs": [
        {
          "output_type": "stream",
          "name": "stdout",
          "text": [
            "Rectangle Area: 50\n"
          ]
        }
      ]
    },
    {
      "cell_type": "code",
      "source": [
        "#14.Create a class Employee with a method calculate_salary() that computes the salary based on hours worked\n",
        "# and hourly rate. Create a derived class Manager that adds a bonus to the salary.\n",
        "class Employee:\n",
        "    def __init__(self, hours, rate):\n",
        "        self.hours = hours\n",
        "        self.rate = rate\n",
        "\n",
        "    def calculate_salary(self):\n",
        "        return self.hours * self.rate\n",
        "\n",
        "class Manager(Employee):\n",
        "    def __init__(self, hours, rate, bonus):\n",
        "        super().__init__(hours, rate)\n",
        "        self.bonus = bonus\n",
        "\n",
        "    def calculate_salary(self):\n",
        "        return super().calculate_salary() + self.bonus\n",
        "\n",
        "emp = Employee(40, 50)\n",
        "mgr = Manager(40, 50, 1000)\n",
        "print(\"Employee Salary:\", emp.calculate_salary())\n",
        "print(\"Manager Salary:\", mgr.calculate_salary())\n"
      ],
      "metadata": {
        "colab": {
          "base_uri": "https://localhost:8080/"
        },
        "id": "4-nIZh9eLH5f",
        "outputId": "17714259-f230-42af-8905-4901391bb8dd"
      },
      "execution_count": 23,
      "outputs": [
        {
          "output_type": "stream",
          "name": "stdout",
          "text": [
            "Employee Salary: 2000\n",
            "Manager Salary: 3000\n"
          ]
        }
      ]
    },
    {
      "cell_type": "code",
      "source": [
        "#15.Create a class Product with attributes name, price, and quantity. Implement a method total_price() that\n",
        "# calculates the total price of the product.\n",
        "class Product:\n",
        "    def __init__(self, name, price, quantity):\n",
        "        self.name = name\n",
        "        self.price = price\n",
        "        self.quantity = quantity\n",
        "\n",
        "    def total_price(self):\n",
        "        return self.price * self.quantity\n",
        "\n",
        "p1 = Product(\"Laptop\", 50000, 2)\n",
        "print(\"Total Price:\", p1.total_price())\n"
      ],
      "metadata": {
        "colab": {
          "base_uri": "https://localhost:8080/"
        },
        "id": "n5asxKQMLHpW",
        "outputId": "b85be7b8-75e6-4c19-b504-e55265d2e7e1"
      },
      "execution_count": 20,
      "outputs": [
        {
          "output_type": "stream",
          "name": "stdout",
          "text": [
            "Total Price: 100000\n"
          ]
        }
      ]
    },
    {
      "cell_type": "code",
      "source": [
        "#16. Create a class Animal with an abstract method sound(). Create two derived classes Cow and Sheep that\n",
        "# implement the sound() method.\n",
        "from abc import ABC, abstractmethod\n",
        "\n",
        "class Animal(ABC):\n",
        "    @abstractmethod\n",
        "    def sound(self):\n",
        "        pass\n",
        "\n",
        "class Cow(Animal):\n",
        "    def sound(self):\n",
        "        return \"Moo\"\n",
        "\n",
        "class Sheep(Animal):\n",
        "    def sound(self):\n",
        "        return \"Baa\"\n",
        "\n",
        "cow = Cow()\n",
        "sheep = Sheep()\n",
        "print(\"Cow sound:\", cow.sound())\n",
        "print(\"Sheep sound:\", sheep.sound())\n"
      ],
      "metadata": {
        "colab": {
          "base_uri": "https://localhost:8080/"
        },
        "id": "8l4B_rqFLHVj",
        "outputId": "708d566b-efd3-41f8-e570-b083265ed01f"
      },
      "execution_count": 19,
      "outputs": [
        {
          "output_type": "stream",
          "name": "stdout",
          "text": [
            "Cow sound: Moo\n",
            "Sheep sound: Baa\n"
          ]
        }
      ]
    },
    {
      "cell_type": "code",
      "source": [
        "#17.Create a class Book with attributes title, author, and year_published. Add a method get_book_info() that\n",
        "# returns a formatted string with the book's details.\n",
        "class Book:\n",
        "    def __init__(self, title, author, year_published):\n",
        "        self.title = title\n",
        "        self.author = author\n",
        "        self.year_published = year_published\n",
        "\n",
        "    def get_book_info(self):\n",
        "        return f\"'{self.title}' by {self.author}, published in {self.year_published}\"\n",
        "\n",
        "book1 = Book(\"The Alchemist\", \"Paulo Coelho\", 1988)\n",
        "print(book1.get_book_info())\n"
      ],
      "metadata": {
        "colab": {
          "base_uri": "https://localhost:8080/"
        },
        "id": "imr_dDlwLGuR",
        "outputId": "d14e2a6a-91e7-4721-e297-ac179fdbccd6"
      },
      "execution_count": 18,
      "outputs": [
        {
          "output_type": "stream",
          "name": "stdout",
          "text": [
            "'The Alchemist' by Paulo Coelho, published in 1988\n"
          ]
        }
      ]
    },
    {
      "cell_type": "code",
      "source": [
        "#18.Create a class House with attributes address and price. Create a derived class Mansion that adds an\n",
        "# attribute number_of_rooms.\n",
        "class House:\n",
        "    def __init__(self, address, price):\n",
        "        self.address = address\n",
        "        self.price = price\n",
        "\n",
        "class Mansion(House):\n",
        "    def __init__(self, address, price, number_of_rooms):\n",
        "        super().__init__(address, price)\n",
        "        self.number_of_rooms = number_of_rooms\n",
        "\n",
        "m1 = Mansion(\"123 Luxury St\", 50000000, 15)\n",
        "print(f\"Address: {m1.address}, Price: {m1.price}, Rooms: {m1.number_of_rooms}\")\n"
      ],
      "metadata": {
        "colab": {
          "base_uri": "https://localhost:8080/"
        },
        "id": "jHHLq5L9LGXv",
        "outputId": "a91d694c-b632-4190-8e0c-1bccbac8ba61"
      },
      "execution_count": 17,
      "outputs": [
        {
          "output_type": "stream",
          "name": "stdout",
          "text": [
            "Address: 123 Luxury St, Price: 50000000, Rooms: 15\n"
          ]
        }
      ]
    }
  ]
}